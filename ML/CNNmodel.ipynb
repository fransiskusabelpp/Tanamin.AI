{
 "cells": [
  {
   "cell_type": "code",
   "execution_count": 75,
   "metadata": {},
   "outputs": [],
   "source": [
    "import tensorflow as tf\n",
    "import pandas as pd\n",
    "from sklearn.model_selection import train_test_split\n",
    "from sklearn.preprocessing import StandardScaler, LabelEncoder\n",
    "from sklearn.model_selection import KFold\n",
    "import numpy as np\n",
    "import matplotlib.pyplot as plt\n",
    "from tensorflow.keras.callbacks import Callback\n",
    "import joblib"
   ]
  },
  {
   "cell_type": "code",
   "execution_count": 50,
   "metadata": {},
   "outputs": [
    {
     "name": "stdout",
     "output_type": "stream",
     "text": [
      "        N   P   K  temperature   humidity        ph    rainfall   label\n",
      "0      90  42  43    20.879744  82.002744  6.502985  202.935536    rice\n",
      "1      85  58  41    21.770462  80.319644  7.038096  226.655537    rice\n",
      "2      60  55  44    23.004459  82.320763  7.840207  263.964248    rice\n",
      "3      74  35  40    26.491096  80.158363  6.980401  242.864034    rice\n",
      "4      78  42  42    20.130175  81.604873  7.628473  262.717340    rice\n",
      "...   ...  ..  ..          ...        ...       ...         ...     ...\n",
      "2195  107  34  32    26.774637  66.413269  6.780064  177.774507  coffee\n",
      "2196   99  15  27    27.417112  56.636362  6.086922  127.924610  coffee\n",
      "2197  118  33  30    24.131797  67.225123  6.362608  173.322839  coffee\n",
      "2198  117  32  34    26.272418  52.127394  6.758793  127.175293  coffee\n",
      "2199  104  18  30    23.603016  60.396475  6.779833  140.937041  coffee\n",
      "\n",
      "[2200 rows x 8 columns]\n"
     ]
    }
   ],
   "source": [
    "df = pd.read_csv('dataset/Crop_recommendation.csv')\n",
    "print(df)"
   ]
  },
  {
   "cell_type": "code",
   "execution_count": 51,
   "metadata": {},
   "outputs": [
    {
     "name": "stdout",
     "output_type": "stream",
     "text": [
      "        N   P   K  temperature   humidity        ph\n",
      "0      90  42  43    20.879744  82.002744  6.502985\n",
      "1      85  58  41    21.770462  80.319644  7.038096\n",
      "2      60  55  44    23.004459  82.320763  7.840207\n",
      "3      74  35  40    26.491096  80.158363  6.980401\n",
      "4      78  42  42    20.130175  81.604873  7.628473\n",
      "...   ...  ..  ..          ...        ...       ...\n",
      "2195  107  34  32    26.774637  66.413269  6.780064\n",
      "2196   99  15  27    27.417112  56.636362  6.086922\n",
      "2197  118  33  30    24.131797  67.225123  6.362608\n",
      "2198  117  32  34    26.272418  52.127394  6.758793\n",
      "2199  104  18  30    23.603016  60.396475  6.779833\n",
      "\n",
      "[2200 rows x 6 columns]\n",
      "0         rice\n",
      "1         rice\n",
      "2         rice\n",
      "3         rice\n",
      "4         rice\n",
      "         ...  \n",
      "2195    coffee\n",
      "2196    coffee\n",
      "2197    coffee\n",
      "2198    coffee\n",
      "2199    coffee\n",
      "Name: label, Length: 2200, dtype: object\n"
     ]
    }
   ],
   "source": [
    "X = df.drop(columns=['rainfall','label'])\n",
    "print(X)\n",
    "Y = df['label']\n",
    "print(Y)"
   ]
  },
  {
   "cell_type": "code",
   "execution_count": 52,
   "metadata": {},
   "outputs": [],
   "source": [
    "label_encoder = LabelEncoder()\n",
    "Y = label_encoder.fit_transform(Y)"
   ]
  },
  {
   "cell_type": "code",
   "execution_count": 53,
   "metadata": {},
   "outputs": [],
   "source": [
    "# Menstandarisasi fitur\n",
    "scaler = StandardScaler()\n",
    "X = scaler.fit_transform(X)"
   ]
  },
  {
   "cell_type": "code",
   "execution_count": 54,
   "metadata": {},
   "outputs": [
    {
     "name": "stdout",
     "output_type": "stream",
     "text": [
      "Fold 1\n",
      "Fold 2\n",
      "Fold 3\n",
      "Fold 4\n",
      "Fold 5\n"
     ]
    }
   ],
   "source": [
    "# Inisialisasi KFold\n",
    "kf = KFold(n_splits=5, shuffle=True, random_state=42)\n",
    "\n",
    "# Iterate melalui setiap fold\n",
    "for fold, (train_index, val_index) in enumerate(kf.split(X)):\n",
    "    print(f'Fold {fold+1}')\n",
    "    x_train, x_val = X[train_index], X[val_index]\n",
    "    y_train, y_val = Y[train_index], Y[val_index]"
   ]
  },
  {
   "cell_type": "code",
   "execution_count": 55,
   "metadata": {},
   "outputs": [],
   "source": [
    "model =  tf.keras.Sequential([\n",
    "    tf.keras.layers.Dense(128, activation='relu', input_shape=(x_train.shape[1],)),\n",
    "    tf.keras.layers.Dropout(0.2),\n",
    "    tf.keras.layers.Dense(64, activation='relu'),\n",
    "    # tf.keras.layers.Dropout(0.2),\n",
    "    tf.keras.layers.Dense(32, activation='relu'),\n",
    "    # tf.keras.layers.Dropout(0.2),\n",
    "    tf.keras.layers.Dense(len(np.unique(Y)), activation='softmax')\n",
    "])"
   ]
  },
  {
   "cell_type": "code",
   "execution_count": 56,
   "metadata": {},
   "outputs": [
    {
     "name": "stdout",
     "output_type": "stream",
     "text": [
      "Model: \"sequential_2\"\n",
      "_________________________________________________________________\n",
      " Layer (type)                Output Shape              Param #   \n",
      "=================================================================\n",
      " dense_8 (Dense)             (None, 128)               896       \n",
      "                                                                 \n",
      " dropout_3 (Dropout)         (None, 128)               0         \n",
      "                                                                 \n",
      " dense_9 (Dense)             (None, 64)                8256      \n",
      "                                                                 \n",
      " dense_10 (Dense)            (None, 32)                2080      \n",
      "                                                                 \n",
      " dense_11 (Dense)            (None, 22)                726       \n",
      "                                                                 \n",
      "=================================================================\n",
      "Total params: 11958 (46.71 KB)\n",
      "Trainable params: 11958 (46.71 KB)\n",
      "Non-trainable params: 0 (0.00 Byte)\n",
      "_________________________________________________________________\n"
     ]
    }
   ],
   "source": [
    "# Kompilasi model\n",
    "model.compile(optimizer='adam', loss='sparse_categorical_crossentropy', metrics=['accuracy'])\n",
    "model.summary()"
   ]
  },
  {
   "cell_type": "code",
   "execution_count": 57,
   "metadata": {},
   "outputs": [],
   "source": [
    "# Definisi Callback\n",
    "class CustomCallback(Callback):\n",
    "    def on_epoch_end(self, epoch, logs=None):\n",
    "        if logs.get('accuracy') >= 0.92 and logs.get('val_accuracy') >= 0.96:\n",
    "            print(\"\\nTraining accuracy reached 92% and validation accuracy reached 96%. Stopping training.\")\n",
    "            self.model.stop_training = True"
   ]
  },
  {
   "cell_type": "code",
   "execution_count": 58,
   "metadata": {},
   "outputs": [],
   "source": [
    "# Inisiasi Callback\n",
    "callbacks = CustomCallback()"
   ]
  },
  {
   "cell_type": "code",
   "execution_count": 59,
   "metadata": {},
   "outputs": [
    {
     "name": "stdout",
     "output_type": "stream",
     "text": [
      "Epoch 1/50\n",
      "55/55 [==============================] - 1s 6ms/step - loss: 2.8198 - accuracy: 0.2222 - val_loss: 2.4385 - val_accuracy: 0.3386\n",
      "Epoch 2/50\n",
      "55/55 [==============================] - 0s 4ms/step - loss: 1.8805 - accuracy: 0.4551 - val_loss: 1.3715 - val_accuracy: 0.6045\n",
      "Epoch 3/50\n",
      "55/55 [==============================] - 0s 2ms/step - loss: 1.0223 - accuracy: 0.6864 - val_loss: 0.7370 - val_accuracy: 0.7614\n",
      "Epoch 4/50\n",
      "55/55 [==============================] - 0s 3ms/step - loss: 0.6564 - accuracy: 0.7949 - val_loss: 0.5342 - val_accuracy: 0.8409\n",
      "Epoch 5/50\n",
      "55/55 [==============================] - 0s 2ms/step - loss: 0.4846 - accuracy: 0.8472 - val_loss: 0.4175 - val_accuracy: 0.8636\n",
      "Epoch 6/50\n",
      "55/55 [==============================] - 0s 2ms/step - loss: 0.4026 - accuracy: 0.8568 - val_loss: 0.3615 - val_accuracy: 0.8614\n",
      "Epoch 7/50\n",
      "55/55 [==============================] - 0s 2ms/step - loss: 0.3633 - accuracy: 0.8716 - val_loss: 0.3148 - val_accuracy: 0.8818\n",
      "Epoch 8/50\n",
      "55/55 [==============================] - 0s 2ms/step - loss: 0.3127 - accuracy: 0.8886 - val_loss: 0.2803 - val_accuracy: 0.8909\n",
      "Epoch 9/50\n",
      "55/55 [==============================] - 0s 2ms/step - loss: 0.2915 - accuracy: 0.8949 - val_loss: 0.2669 - val_accuracy: 0.8909\n",
      "Epoch 10/50\n",
      "55/55 [==============================] - 0s 2ms/step - loss: 0.2771 - accuracy: 0.8977 - val_loss: 0.2475 - val_accuracy: 0.9136\n",
      "Epoch 11/50\n",
      "55/55 [==============================] - 0s 2ms/step - loss: 0.2534 - accuracy: 0.9080 - val_loss: 0.2091 - val_accuracy: 0.9295\n",
      "Epoch 12/50\n",
      "55/55 [==============================] - 0s 2ms/step - loss: 0.2276 - accuracy: 0.9142 - val_loss: 0.2197 - val_accuracy: 0.9023\n",
      "Epoch 13/50\n",
      "55/55 [==============================] - 0s 2ms/step - loss: 0.2377 - accuracy: 0.9114 - val_loss: 0.1970 - val_accuracy: 0.9318\n",
      "Epoch 14/50\n",
      "55/55 [==============================] - 0s 2ms/step - loss: 0.2203 - accuracy: 0.9210 - val_loss: 0.1896 - val_accuracy: 0.9318\n",
      "Epoch 15/50\n",
      "55/55 [==============================] - 0s 2ms/step - loss: 0.2058 - accuracy: 0.9256 - val_loss: 0.1844 - val_accuracy: 0.9341\n",
      "Epoch 16/50\n",
      "55/55 [==============================] - 0s 2ms/step - loss: 0.2110 - accuracy: 0.9159 - val_loss: 0.1895 - val_accuracy: 0.9227\n",
      "Epoch 17/50\n",
      "55/55 [==============================] - 0s 2ms/step - loss: 0.1933 - accuracy: 0.9261 - val_loss: 0.1751 - val_accuracy: 0.9318\n",
      "Epoch 18/50\n",
      "55/55 [==============================] - 0s 2ms/step - loss: 0.1991 - accuracy: 0.9216 - val_loss: 0.1780 - val_accuracy: 0.9386\n",
      "Epoch 19/50\n",
      "55/55 [==============================] - 0s 2ms/step - loss: 0.1707 - accuracy: 0.9364 - val_loss: 0.1605 - val_accuracy: 0.9295\n",
      "Epoch 20/50\n",
      "55/55 [==============================] - 0s 2ms/step - loss: 0.1738 - accuracy: 0.9369 - val_loss: 0.1683 - val_accuracy: 0.9318\n",
      "Epoch 21/50\n",
      "55/55 [==============================] - 0s 2ms/step - loss: 0.1820 - accuracy: 0.9278 - val_loss: 0.1838 - val_accuracy: 0.9182\n",
      "Epoch 22/50\n",
      "55/55 [==============================] - 0s 2ms/step - loss: 0.1756 - accuracy: 0.9290 - val_loss: 0.1504 - val_accuracy: 0.9409\n",
      "Epoch 23/50\n",
      "55/55 [==============================] - 0s 2ms/step - loss: 0.1637 - accuracy: 0.9381 - val_loss: 0.1538 - val_accuracy: 0.9318\n",
      "Epoch 24/50\n",
      "55/55 [==============================] - 0s 2ms/step - loss: 0.1680 - accuracy: 0.9301 - val_loss: 0.1477 - val_accuracy: 0.9295\n",
      "Epoch 25/50\n",
      "55/55 [==============================] - 0s 2ms/step - loss: 0.1759 - accuracy: 0.9290 - val_loss: 0.1518 - val_accuracy: 0.9295\n",
      "Epoch 26/50\n",
      "55/55 [==============================] - 0s 2ms/step - loss: 0.1588 - accuracy: 0.9386 - val_loss: 0.1546 - val_accuracy: 0.9273\n",
      "Epoch 27/50\n",
      "55/55 [==============================] - 0s 2ms/step - loss: 0.1485 - accuracy: 0.9420 - val_loss: 0.1489 - val_accuracy: 0.9318\n",
      "Epoch 28/50\n",
      "55/55 [==============================] - 0s 2ms/step - loss: 0.1636 - accuracy: 0.9301 - val_loss: 0.1560 - val_accuracy: 0.9295\n",
      "Epoch 29/50\n",
      "55/55 [==============================] - 0s 2ms/step - loss: 0.1515 - accuracy: 0.9369 - val_loss: 0.1341 - val_accuracy: 0.9455\n",
      "Epoch 30/50\n",
      "55/55 [==============================] - 0s 2ms/step - loss: 0.1463 - accuracy: 0.9415 - val_loss: 0.1359 - val_accuracy: 0.9432\n",
      "Epoch 31/50\n",
      "55/55 [==============================] - 0s 2ms/step - loss: 0.1328 - accuracy: 0.9494 - val_loss: 0.1400 - val_accuracy: 0.9364\n",
      "Epoch 32/50\n",
      "55/55 [==============================] - 0s 2ms/step - loss: 0.1413 - accuracy: 0.9460 - val_loss: 0.1350 - val_accuracy: 0.9477\n",
      "Epoch 33/50\n",
      "55/55 [==============================] - 0s 2ms/step - loss: 0.1529 - accuracy: 0.9403 - val_loss: 0.1605 - val_accuracy: 0.9273\n",
      "Epoch 34/50\n",
      "55/55 [==============================] - 0s 2ms/step - loss: 0.1303 - accuracy: 0.9483 - val_loss: 0.1429 - val_accuracy: 0.9318\n",
      "Epoch 35/50\n",
      "55/55 [==============================] - 0s 2ms/step - loss: 0.1463 - accuracy: 0.9415 - val_loss: 0.1324 - val_accuracy: 0.9432\n",
      "Epoch 36/50\n",
      "55/55 [==============================] - 0s 2ms/step - loss: 0.1322 - accuracy: 0.9477 - val_loss: 0.1381 - val_accuracy: 0.9341\n",
      "Epoch 37/50\n",
      "55/55 [==============================] - 0s 2ms/step - loss: 0.1372 - accuracy: 0.9460 - val_loss: 0.1246 - val_accuracy: 0.9523\n",
      "Epoch 38/50\n",
      "55/55 [==============================] - 0s 2ms/step - loss: 0.1301 - accuracy: 0.9489 - val_loss: 0.1234 - val_accuracy: 0.9500\n",
      "Epoch 39/50\n",
      "55/55 [==============================] - 0s 3ms/step - loss: 0.1373 - accuracy: 0.9449 - val_loss: 0.1267 - val_accuracy: 0.9523\n",
      "Epoch 40/50\n",
      "55/55 [==============================] - 0s 3ms/step - loss: 0.1265 - accuracy: 0.9455 - val_loss: 0.1213 - val_accuracy: 0.9364\n",
      "Epoch 41/50\n",
      "55/55 [==============================] - 0s 2ms/step - loss: 0.1311 - accuracy: 0.9455 - val_loss: 0.1234 - val_accuracy: 0.9477\n",
      "Epoch 42/50\n",
      "55/55 [==============================] - 0s 2ms/step - loss: 0.1228 - accuracy: 0.9483 - val_loss: 0.1315 - val_accuracy: 0.9386\n",
      "Epoch 43/50\n",
      "55/55 [==============================] - 0s 2ms/step - loss: 0.1278 - accuracy: 0.9489 - val_loss: 0.1332 - val_accuracy: 0.9455\n",
      "Epoch 44/50\n",
      "55/55 [==============================] - 0s 2ms/step - loss: 0.1232 - accuracy: 0.9489 - val_loss: 0.1265 - val_accuracy: 0.9545\n",
      "Epoch 45/50\n",
      "55/55 [==============================] - 0s 3ms/step - loss: 0.1149 - accuracy: 0.9489 - val_loss: 0.1145 - val_accuracy: 0.9568\n",
      "Epoch 46/50\n",
      "55/55 [==============================] - 0s 3ms/step - loss: 0.1250 - accuracy: 0.9483 - val_loss: 0.1279 - val_accuracy: 0.9386\n",
      "Epoch 47/50\n",
      "55/55 [==============================] - 0s 2ms/step - loss: 0.1138 - accuracy: 0.9597 - val_loss: 0.1272 - val_accuracy: 0.9432\n",
      "Epoch 48/50\n",
      "55/55 [==============================] - 0s 2ms/step - loss: 0.1086 - accuracy: 0.9580 - val_loss: 0.1182 - val_accuracy: 0.9432\n",
      "Epoch 49/50\n",
      "55/55 [==============================] - 0s 3ms/step - loss: 0.1242 - accuracy: 0.9528 - val_loss: 0.1300 - val_accuracy: 0.9477\n",
      "Epoch 50/50\n",
      "55/55 [==============================] - 0s 3ms/step - loss: 0.1167 - accuracy: 0.9534 - val_loss: 0.1254 - val_accuracy: 0.9386\n"
     ]
    }
   ],
   "source": [
    "# Melatih model\n",
    "history = model.fit(x_train, y_train, epochs=50, batch_size=32, validation_data=(x_val, y_val))"
   ]
  },
  {
   "cell_type": "code",
   "execution_count": 60,
   "metadata": {},
   "outputs": [
    {
     "name": "stdout",
     "output_type": "stream",
     "text": [
      "14/14 [==============================] - 0s 1ms/step - loss: 0.1254 - accuracy: 0.9386\n",
      "Validation Accuracy: 0.9386363625526428\n"
     ]
    }
   ],
   "source": [
    "loss, accuracy = model.evaluate(x_val, y_val)\n",
    "print(f'Validation Accuracy: {accuracy}')"
   ]
  },
  {
   "cell_type": "code",
   "execution_count": 61,
   "metadata": {},
   "outputs": [],
   "source": [
    "# Mendapatkan riwayat akurasi pelatihan\n",
    "accuracy = history.history['accuracy']\n",
    "val_accuracy = history.history['val_accuracy']\n",
    "# Mendapatkan riwayat loss pelatihan\n",
    "loss = history.history['loss']\n",
    "val_loss = history.history['val_loss']"
   ]
  },
  {
   "cell_type": "code",
   "execution_count": 62,
   "metadata": {},
   "outputs": [
    {
     "data": {
      "image/png": "[encoded data removed]",
      "text/plain": [
       "<Figure size 1000x500 with 1 Axes>"
      ]
     },
     "metadata": {},
     "output_type": "display_data"
    },
    {
     "data": {
      "image/png": "[encoded data removed]",
      "text/plain": [
       "<Figure size 1000x500 with 1 Axes>"
      ]
     },
     "metadata": {},
     "output_type": "display_data"
    }
   ],
   "source": [
    "# Plot akurasi\n",
    "plt.figure(figsize=(10, 5))\n",
    "plt.plot(accuracy, label='Training Accuracy')\n",
    "plt.plot(val_accuracy, label='Validation Accuracy')\n",
    "plt.title('Training and Validation Accuracy')\n",
    "plt.xlabel('Epoch')\n",
    "plt.ylabel('Accuracy')\n",
    "plt.legend()\n",
    "plt.show()\n",
    "\n",
    "# Plot loss\n",
    "plt.figure(figsize=(10, 5))\n",
    "plt.plot(loss, label='Training Loss')\n",
    "plt.plot(val_loss, label='Validation Loss')\n",
    "plt.title('Training and Validation Loss')\n",
    "plt.xlabel('Epoch')\n",
    "plt.ylabel('Loss')\n",
    "plt.legend()\n",
    "plt.show()"
   ]
  },
  {
   "cell_type": "code",
   "execution_count": 76,
   "metadata": {},
   "outputs": [
    {
     "name": "stderr",
     "output_type": "stream",
     "text": [
      "c:\\Users\\USER\\anaconda3\\envs\\main-ds\\lib\\site-packages\\keras\\src\\engine\\training.py:3103: UserWarning: You are saving your model as an HDF5 file via `model.save()`. This file format is considered legacy. We recommend using instead the native Keras format, e.g. `model.save('my_model.keras')`.\n",
      "  saving_api.save_model(\n"
     ]
    },
    {
     "data": {
      "text/plain": [
       "['scaler.joblib']"
      ]
     },
     "execution_count": 76,
     "metadata": {},
     "output_type": "execute_result"
    }
   ],
   "source": [
    "model.save('soilsensor.h5')\n",
    "joblib.dump(label_encoder, 'label_encoder.joblib')\n",
    "joblib.dump(scaler, 'scaler.joblib')"
   ]
  },
  {
   "cell_type": "code",
   "execution_count": 64,
   "metadata": {},
   "outputs": [
    {
     "name": "stdout",
     "output_type": "stream",
     "text": [
      "INFO:tensorflow:Assets written to: C:\\Users\\USER\\AppData\\Local\\Temp\\tmpf8gd3cg5\\assets\n"
     ]
    },
    {
     "name": "stderr",
     "output_type": "stream",
     "text": [
      "INFO:tensorflow:Assets written to: C:\\Users\\USER\\AppData\\Local\\Temp\\tmpf8gd3cg5\\assets\n"
     ]
    }
   ],
   "source": [
    "# Load the trained model\n",
    "model = tf.keras.models.load_model('soilsensor.h5')\n",
    "\n",
    "# Convert the model to TensorFlow Lite format\n",
    "converter = tf.lite.TFLiteConverter.from_keras_model(model)\n",
    "tflite_model = converter.convert()\n",
    "\n",
    "# Save the converted model to a file\n",
    "with open('converted_model.tflite', 'wb') as f:\n",
    "    f.write(tflite_model)"
   ]
  },
  {
   "cell_type": "code",
   "execution_count": 65,
   "metadata": {},
   "outputs": [
    {
     "name": "stderr",
     "output_type": "stream",
     "text": [
      "c:\\Users\\USER\\anaconda3\\envs\\main-ds\\lib\\site-packages\\sklearn\\base.py:493: UserWarning: X does not have valid feature names, but StandardScaler was fitted with feature names\n",
      "  warnings.warn(\n"
     ]
    }
   ],
   "source": [
    "# N = 0 - 140\n",
    "# P = 5 - 145\n",
    "# K = 5 - 205\n",
    "# temp = 8 - 43\n",
    "# hum = 14 - 100\n",
    "# ph = 3 - 10\n",
    "\n",
    "N = 21\n",
    "P = 22\n",
    "K = 25\n",
    "temp = 30\n",
    "hum = 40\n",
    "ph = 6\n",
    "\n",
    "#Input parameter untuk prediksi\n",
    "pred_params = [N, P, K, temp, hum, ph]\n",
    "\n"
   ]
  },
  {
   "cell_type": "code",
   "execution_count": 84,
   "metadata": {},
   "outputs": [
    {
     "name": "stdout",
     "output_type": "stream",
     "text": [
      "Tanaman yang direkomendasikan berdasarkan parameter yang dimasukkan adalah: mango\n"
     ]
    },
    {
     "name": "stderr",
     "output_type": "stream",
     "text": [
      "c:\\Users\\USER\\anaconda3\\envs\\main-ds\\lib\\site-packages\\sklearn\\base.py:493: UserWarning: X does not have valid feature names, but StandardScaler was fitted with feature names\n",
      "  warnings.warn(\n"
     ]
    }
   ],
   "source": [
    "#Prediksi dengan load TFLite\n",
    "# Load the TFLite model\n",
    "with open('converted_model.tflite', 'rb') as f:\n",
    "    tflite_model = f.read()\n",
    "\n",
    "# Memuat StandardScaler dan LabelEncoder yang telah disimpan\n",
    "scaler = joblib.load('scaler.joblib')\n",
    "label_encoder = joblib.load('label_encoder.joblib')\n",
    "\n",
    "# Initialize the interpreter\n",
    "interpreter = tf.lite.Interpreter(model_content=tflite_model)\n",
    "interpreter.allocate_tensors()\n",
    "\n",
    "# Get input and output tensors\n",
    "input_details = interpreter.get_input_details()\n",
    "output_details = interpreter.get_output_details()\n",
    "\n",
    "# Menstandarisasi input\n",
    "input_data = np.array([pred_params])\n",
    "input_data_scaled = scaler.transform(input_data).astype(np.float32)\n",
    "\n",
    "# Set the tensor to point to the input data to be inferred\n",
    "interpreter.set_tensor(input_details[0]['index'], input_data_scaled)\n",
    "\n",
    "# Run inference\n",
    "interpreter.invoke()\n",
    "\n",
    "# Extract the output tensor\n",
    "output_data = interpreter.get_tensor(output_details[0]['index'])\n",
    "predicted_label = label_encoder.inverse_transform(np.argmax(output_data, axis=1))\n",
    "print(f\"Tanaman yang direkomendasikan berdasarkan parameter yang dimasukkan adalah: {predicted_class[0]}\")\n"
   ]
  },
  {
   "cell_type": "code",
   "execution_count": 72,
   "metadata": {},
   "outputs": [
    {
     "name": "stdout",
     "output_type": "stream",
     "text": [
      "1/1 [==============================] - 0s 69ms/step\n",
      "[[9.95963813e-25 1.13755368e-29 3.55815799e-19 4.06748203e-12\n",
      "  4.40249717e-19 5.63523713e-07 3.48222988e-23 8.35183552e-17\n",
      "  1.50228895e-15 5.31381517e-09 4.62947247e-17 1.60257196e-10\n",
      "  9.99992251e-01 7.15319129e-06 2.25343170e-30 2.91813269e-26\n",
      "  3.17612100e-19 6.14021349e-26 2.78122664e-11 1.55230054e-17\n",
      "  1.18320446e-26 1.11618878e-16]]\n",
      "Tanaman yang direkomendasikan berdasarkan parameter yang dimasukkan adalah: mango\n"
     ]
    }
   ],
   "source": [
    "# Memperoleh prediksi\n",
    "prediction = model.predict(input_data_scaled)\n",
    "print(prediction)\n",
    "predicted_class = label_encoder.inverse_transform(np.argmax(prediction, axis=1))\n",
    "print(f\"Tanaman yang direkomendasikan berdasarkan parameter yang dimasukkan adalah: {predicted_class[0]}\")"
   ]
  },
  {
   "cell_type": "markdown",
   "metadata": {},
   "source": [
    "# Jika ada dataset baru"
   ]
  },
  {
   "cell_type": "code",
   "execution_count": 67,
   "metadata": {},
   "outputs": [],
   "source": [
    "# # Compile the model\n",
    "# model.compile(optimizer='adam', loss='sparse_categorical_crossentropy', metrics=['accuracy'])\n",
    "\n",
    "# # Train the model on the new dataset\n",
    "# model.fit(new_X_train, new_Y_train, epochs=5, validation_data=(validation_X, validation_Y))\n",
    "\n",
    "# # Save the updated model\n",
    "# model.save('updated_model.h5')\n",
    "\n",
    "# # Load the trained model\n",
    "# model = tf.keras.models.load_model('updated_model.h5')\n",
    "\n",
    "# # Convert the model to TensorFlow Lite format\n",
    "# converter = tf.lite.TFLiteConverter.from_keras_model(model)\n",
    "# tflite_model = converter.convert()\n",
    "\n",
    "# # Save the converted model to a file\n",
    "# with open('converted_model.tflite', 'wb') as f:\n",
    "#     f.write(tflite_model)"
   ]
  }
 ],
 "metadata": {
  "kernelspec": {
   "display_name": "Python 3",
   "language": "python",
   "name": "python3"
  },
  "language_info": {
   "codemirror_mode": {
    "name": "ipython",
    "version": 3
   },
   "file_extension": ".py",
   "mimetype": "text/x-python",
   "name": "python",
   "nbconvert_exporter": "python",
   "pygments_lexer": "ipython3",
   "version": "3.12.1"
  }
 },
 "nbformat": 4,
 "nbformat_minor": 2
}
